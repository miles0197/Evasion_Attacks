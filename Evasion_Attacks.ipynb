{
 "cells": [
  {
   "cell_type": "markdown",
   "id": "fcf0e421-c9c7-4bd2-9e28-625842537f67",
   "metadata": {},
   "source": [
    "## Imports"
   ]
  },
  {
   "cell_type": "code",
   "execution_count": 1,
   "id": "a7c55e15-7420-4305-a7fa-64baa898fb15",
   "metadata": {},
   "outputs": [],
   "source": [
    "#PyTorch Specific libraries\n",
    "# !pip install torchattacks\n",
    "import torchattacks\n",
    "import torch\n",
    "import torchvision\n",
    "from torch import nn, optim\n",
    "import torch.nn.functional as F\n",
    "from torch.nn.functional import cross_entropy, softmax\n",
    "from torchvision import datasets\n",
    "import torchvision.transforms as transforms\n",
    "from torch.autograd import Variable\n",
    "\n",
    "#Data manipulation and visualisation specific libraries\n",
    "import pandas as pd\n",
    "import numpy as np\n",
    "import matplotlib.pyplot as plt\n",
    "import math\n",
    "\n",
    "# For splitting the data into Train and Test set\n",
    "from sklearn.model_selection import train_test_split\n",
    "\n",
    "# For normalizing data\n",
    "from sklearn import preprocessing\n",
    "\n",
    "# Loading bar\n",
    "from tqdm import tqdm\n",
    "\n",
    "#reference for torchattacks: https://adversarial-attacks-pytorch.readthedocs.io/en/latest/attacks.html\n",
    "#reference for torch: https://pypi.org/project/torch/\n",
    "#reference for torchvision: https://pypi.org/project/torchvision/\n",
    "#reference for pandas: https://pandas.pydata.org/getting_started.html\n",
    "#reference for numpy: https://numpy.org/doc/stable/user/absolute_beginners.html\n",
    "#reference for matplotlib: https://matplotlib.org/2.0.2/users/pyplot_tutorial.html\n",
    "#reference for math: https://docs.python.org/3/library/math.html\n",
    "#reference for sklearn: https://scikit-learn.org/stable/getting_started.html\n",
    "#reference for tqdm: https://pypi.org/project/tqdm/"
   ]
  },
  {
   "cell_type": "markdown",
   "id": "fd2fa4bf-8961-4cde-9fc4-e77d8154a38f",
   "metadata": {},
   "source": [
    "## Data \n",
    "\n",
    "CIFAR10 dataset."
   ]
  },
  {
   "cell_type": "code",
   "execution_count": 2,
   "id": "df1e6355-a8d0-4fc2-a885-dc00ceb805c3",
   "metadata": {},
   "outputs": [
    {
     "name": "stdout",
     "output_type": "stream",
     "text": [
      "Files already downloaded and verified\n"
     ]
    }
   ],
   "source": [
    "n_classes = 10\n",
    "img_size  = 32\n",
    "channel   = 3\n",
    "batch_size = 100\n",
    "\n",
    "transform = transforms.Compose(\n",
    "    [transforms.ToTensor()])\n",
    "\n",
    "testset = torchvision.datasets.CIFAR10(root='./data', train=False,\n",
    "                                       download=True, transform=transform)\n",
    "testloader = torch.utils.data.DataLoader(testset, batch_size=batch_size,\n",
    "                                         shuffle=False, pin_memory=True)\n",
    "\n",
    "classes = ('plane', 'car', 'bird', 'cat',\n",
    "           'deer', 'dog', 'frog', 'horse', 'ship', 'truck')"
   ]
  },
  {
   "cell_type": "code",
   "execution_count": 3,
   "id": "01283f17-3927-4c7f-86b2-256fd9acf866",
   "metadata": {},
   "outputs": [
    {
     "data": {
      "image/png": "[encoded data removed]",
      "text/plain": [
       "<Figure size 2500x400 with 4 Axes>"
      ]
     },
     "metadata": {},
     "output_type": "display_data"
    }
   ],
   "source": [
    "# obtain one batch of training images\n",
    "dataiter = iter(testloader)\n",
    "images, labels = next(dataiter)\n",
    "\n",
    "# making sure we can view the images\n",
    "images = images.detach().numpy()\n",
    "images = [np.transpose(image, (1, 2, 0)) for image in images]\n",
    "\n",
    "# plot the images in the batch, along with the corresponding labels\n",
    "fig = plt.figure(figsize=(25, 4))\n",
    "for idx in np.arange(4):\n",
    "    ax = fig.add_subplot(2, 20//2, idx+1, xticks=[], yticks=[])\n",
    "    ax.imshow(images[idx], cmap='gray')\n",
    "    # print out the correct label for each image\n",
    "    # .item() gets the value contained in a Tensor\n",
    "    ax.set_title(str(classes[labels[idx].item()]))"
   ]
  },
  {
   "cell_type": "markdown",
   "id": "ab4e6850-59ef-4d8e-bba8-99e212cf6002",
   "metadata": {},
   "source": [
    "## VGG-16 Architecture  "
   ]
  },
  {
   "cell_type": "code",
   "execution_count": 4,
   "id": "a410edd3-86c3-4986-bbc6-94f56a5d8f7c",
   "metadata": {},
   "outputs": [],
   "source": [
    "defaultcfg = {\n",
    "    11 : [64, 'M', 128, 'M', 256, 256, 'M', 512, 512, 'M', 512, 512],\n",
    "    13 : [64, 64, 'M', 128, 128, 'M', 256, 256, 'M', 512, 512, 'M', 512, 512],\n",
    "    16 : [64, 64, 'M', 128, 128, 'M', 256, 256, 256, 'M', 512, 512, 512, 'M', 512, 512, 512],\n",
    "    19 : [64, 64, 'M', 128, 128, 'M', 256, 256, 256, 256, 'M', 512, 512, 512, 512, 'M', 512, 512, 512, 512],\n",
    "}\n",
    "\n",
    "def conv_layer(chann_in, chann_out, k_size, p_size):\n",
    "    layer = nn.Sequential(\n",
    "        nn.Conv2d(chann_in, chann_out, kernel_size=k_size, padding=p_size),\n",
    "        nn.BatchNorm2d(chann_out),\n",
    "        nn.ReLU()\n",
    "    )\n",
    "    return layer\n",
    "\n",
    "def vgg_conv_block(in_list, out_list, k_list, p_list, pooling_k, pooling_s):\n",
    "\n",
    "    layers = [ conv_layer(in_list[i], out_list[i], k_list[i], p_list[i]) for i in range(len(in_list)) ]\n",
    "    layers += [ nn.MaxPool2d(kernel_size = pooling_k, stride = pooling_s)]\n",
    "    return nn.Sequential(*layers)\n",
    "\n",
    "def vgg_fc_layer(size_in, size_out):\n",
    "    layer = nn.Sequential(\n",
    "        nn.Linear(size_in, size_out),\n",
    "        nn.BatchNorm1d(size_out),\n",
    "        nn.ReLU()\n",
    "    )\n",
    "    return layer\n",
    "\n",
    "class VGG16(nn.Module):\n",
    "    def __init__(self, num_classes=10, **kwargs):\n",
    "        super(VGG16, self).__init__()\n",
    "\n",
    "        self.record = False\n",
    "        self.targets = None\n",
    "        # Conv blocks (BatchNorm + ReLU activation added in each block)\n",
    "        self.layer1 = vgg_conv_block([3,64], [64,64], [3,3], [1,1], 2, 2)\n",
    "        self.layer2 = vgg_conv_block([64,128], [128,128], [3,3], [1,1], 2, 2)\n",
    "        self.layer3 = vgg_conv_block([128,256,256], [256,256,256], [3,3,3], [1,1,1], 2, 2)\n",
    "        self.layer4 = vgg_conv_block([256,512,512], [512,512,512], [3,3,3], [1,1,1], 2, 2)\n",
    "        self.layer5 = vgg_conv_block([512,512,512], [512,512,512], [3,3,3], [1,1,1], 2, 2)\n",
    "\n",
    "        self.avgpool = torch.nn.AdaptiveAvgPool2d((1,1))\n",
    "\n",
    "        # FC layers\n",
    "        self.layer6 = vgg_fc_layer(512, 4096)\n",
    "        self.layer7 = vgg_fc_layer(4096, 4096)\n",
    "\n",
    "        # Final layer\n",
    "        self.layer8 = nn.Linear(4096, num_classes)\n",
    "\n",
    "\n",
    "    def _initialize_weights(self):\n",
    "        for m in self.modules():\n",
    "            if isinstance(m, nn.Conv2d):\n",
    "                nn.init.kaiming_normal_(m.weight, mode='fan_out', nonlinearity='relu')\n",
    "                if m.bias is not None:\n",
    "                    nn.init.constant_(m.bias, 0)\n",
    "            elif isinstance(m, nn.BatchNorm2d):\n",
    "                nn.init.constant_(m.weight, 1)\n",
    "                nn.init.constant_(m.bias, 0)\n",
    "            elif isinstance(m, nn.Linear):\n",
    "                nn.init.normal_(m.weight, 0, 0.01)\n",
    "                nn.init.constant_(m.bias, 0)\n",
    "\n",
    "    def forward(self, x):\n",
    "        output_list = []\n",
    "            \n",
    "        out = self.layer1(x)\n",
    "        output_list.append(out)\n",
    "        \n",
    "        out = self.layer2(out)\n",
    "        output_list.append(out)\n",
    "        \n",
    "        out = self.layer3(out)\n",
    "        output_list.append(out)\n",
    "        \n",
    "        out = self.layer4(out)\n",
    "        output_list.append(out)\n",
    "        \n",
    "        vgg16_features = self.layer5(out)\n",
    "\n",
    "        output_list.append(vgg16_features)\n",
    "\n",
    "        out = self.avgpool(vgg16_features)\n",
    "\n",
    "        out = out.view(out.size(0), -1)\n",
    "\n",
    "        out = self.layer6(out)\n",
    "        output_list.append(out)\n",
    "        \n",
    "        out = self.layer7(out)\n",
    "        output_list.append(out)\n",
    "        \n",
    "        out = self.layer8(out)\n",
    "\n",
    "        if self.record:\n",
    "            self.record = False\n",
    "            return out, output_list\n",
    "        else:\n",
    "            return out"
   ]
  },
  {
   "cell_type": "markdown",
   "id": "ddf38211-fc32-45b0-ba06-cee2faee1107",
   "metadata": {},
   "source": [
    "## Model Loading\n",
    "\n",
    "We used both the basic and robust pre-trained models and loaded here. The models are in the subfolder named /models/.\n",
    "\n",
    "Reference: https://drive.google.com/file/d/1T1Ao-L16bM3eXZ6Pvk_y4UqVBImnC8Cg/view"
   ]
  },
  {
   "cell_type": "code",
   "execution_count": 5,
   "id": "6aefcf62-c721-4299-aded-8469adc89618",
   "metadata": {},
   "outputs": [
    {
     "data": {
      "text/plain": [
       "<All keys matched successfully>"
      ]
     },
     "execution_count": 5,
     "metadata": {},
     "output_type": "execute_result"
    }
   ],
   "source": [
    "basic_model = VGG16(num_classes=n_classes)\n",
    "basic_model.load_state_dict(torch.load('./models/plain_vgg16_cifar10.pth',  map_location=torch.device('cpu')))\n",
    "\n",
    "robust_model = VGG16(num_classes=n_classes)\n",
    "robust_model.load_state_dict(torch.load('./models/AT_vgg16_cifar10.pth',  map_location=torch.device('cpu')))"
   ]
  },
  {
   "cell_type": "markdown",
   "id": "dd54eea4-ce33-4c91-bc51-7c324b267b2d",
   "metadata": {},
   "source": [
    "So far, we've imported the necessary libraries, loaded the CIFAR-10 dataset, implemented our VGG16 model, and created a test function to test the model's accuracy on the dataset below. We then evaluated the accuracy of both the basic model and the robust model."
   ]
  },
  {
   "cell_type": "code",
   "execution_count": 6,
   "id": "987a5691-7526-405e-9720-0f0ac024124c",
   "metadata": {},
   "outputs": [],
   "source": [
    "def test(model):\n",
    "    correct = 0\n",
    "    total = 0\n",
    "\n",
    "    model.eval()\n",
    "    print('\\n\\n[Plain/Test] Under Testing ... Please Wait')\n",
    "    for batch_idx, (inputs, targets) in enumerate(tqdm(testloader)):\n",
    "\n",
    "        # dataloader parsing and generate adversarial examples\n",
    "        inputs, targets = inputs, targets\n",
    "\n",
    "        # Evaluation\n",
    "        outputs = model(inputs).detach()\n",
    "\n",
    "        # Test\n",
    "        _, predicted = torch.max(outputs, dim=1)\n",
    "        total += targets.numel()\n",
    "        correct += (predicted == targets).sum().item() \n",
    "    return 100.*correct / total"
   ]
  },
  {
   "cell_type": "markdown",
   "id": "690fb0fe-b60f-4ca0-a07b-6ccf76b2e969",
   "metadata": {},
   "source": [
    "We test the pre-trained models on the CIFAR-10 test below and print their accuracy respectively. "
   ]
  },
  {
   "cell_type": "code",
   "execution_count": 7,
   "id": "da55e786-064c-4b0c-ab25-f1a6e7e6a741",
   "metadata": {},
   "outputs": [
    {
     "name": "stdout",
     "output_type": "stream",
     "text": [
      "\n",
      "\n",
      "[Plain/Test] Under Testing ... Please Wait\n"
     ]
    },
    {
     "name": "stderr",
     "output_type": "stream",
     "text": [
      "100%|████████████████████████████████████████████████████████████████████████████████| 100/100 [00:55<00:00,  1.80it/s]\n"
     ]
    },
    {
     "name": "stdout",
     "output_type": "stream",
     "text": [
      "[Plain/Test] Accuracy: 90.000\n",
      "\n",
      "\n",
      "[Plain/Test] Under Testing ... Please Wait\n"
     ]
    },
    {
     "name": "stderr",
     "output_type": "stream",
     "text": [
      "100%|████████████████████████████████████████████████████████████████████████████████| 100/100 [00:51<00:00,  1.94it/s]"
     ]
    },
    {
     "name": "stdout",
     "output_type": "stream",
     "text": [
      "[Plain/Test] Accuracy: 75.250\n"
     ]
    },
    {
     "name": "stderr",
     "output_type": "stream",
     "text": [
      "\n"
     ]
    }
   ],
   "source": [
    "print('[Plain/Test] Accuracy: {:.3f}'.format(test(basic_model)))\n",
    "print('[Plain/Test] Accuracy: {:.3f}'.format(test(robust_model)))"
   ]
  },
  {
   "cell_type": "markdown",
   "id": "9dbe5acf-57bd-4ebb-97d7-aa775c1d63c9",
   "metadata": {},
   "source": [
    "## 1. FGSM \n",
    "\n",
    "a) Execute the untargeted and targeted version of the FGSM attack. Use class cat (class index 3) as your target for the targeted version. Evaluate\n",
    "the accuracy of the moeld.ns"
   ]
  },
  {
   "cell_type": "code",
   "execution_count": 8,
   "id": "dce5db23-33cb-4ce2-829e-936abc9a37a7",
   "metadata": {},
   "outputs": [],
   "source": [
    "#Untargeted attack adversary\n",
    "def adv_test_untargeted(attack, net):\n",
    "    correct = 0\n",
    "    total = 0\n",
    "\n",
    "    net.eval()\n",
    "    print('\\n\\n[Plain/Test] Under Testing ... Please Wait')\n",
    "    for batch_idx, (inputs, targets) in enumerate(tqdm(testloader)):\n",
    "        inputs, targets = inputs, targets\n",
    "        \n",
    "        # dataloader parsing and generate adversarial examples\n",
    "        adv_inputs = attack(inputs, targets)\n",
    "\n",
    "        # Evaluation\n",
    "        outputs = net(adv_inputs).detach()\n",
    "\n",
    "        # Test\n",
    "        _, predicted = torch.max(outputs, dim=1)\n",
    "        total += targets.numel()\n",
    "        correct += (predicted == targets).sum().item() \n",
    "\n",
    "        \n",
    "    print('[Plain/Test] Accuracy: {:.3f}'.format(100.*correct / total))\n",
    "    return 100.*correct / total\n",
    "\n",
    "#Targeted attack adversary\n",
    "def adv_test_targeted(attack, net):\n",
    "    correct = 0\n",
    "    total = 0\n",
    "\n",
    "    net.eval()\n",
    "    print('\\n\\n[Plain/Test] Under Testing ... Please Wait')\n",
    "    for batch_idx, (inputs, targets) in enumerate(tqdm(testloader)):\n",
    "        inputs, targets = inputs, targets\n",
    "        \n",
    "        # dataloader parsing and generate adversarial examples, target cat\n",
    "        adv_inputs = attack(inputs, torch.full_like(targets, 3))\n",
    "\n",
    "        # Evaluation\n",
    "        outputs = net(adv_inputs).detach()\n",
    "\n",
    "        # Test\n",
    "        _, predicted = torch.max(outputs, dim=1)\n",
    "        total += targets.numel()\n",
    "        correct += (predicted == targets).sum().item() \n",
    "\n",
    "        \n",
    "    print('[Plain/Test] Accuracy: {:.3f}'.format(100.*correct / total))\n",
    "    return 100.*correct / total"
   ]
  },
  {
   "cell_type": "code",
   "execution_count": 19,
   "id": "9dc9b18e-eac6-4c06-8c6f-61edf1d76954",
   "metadata": {},
   "outputs": [
    {
     "name": "stdout",
     "output_type": "stream",
     "text": [
      "\n",
      "\n",
      "[Plain/Test] Under Testing ... Please Wait\n"
     ]
    },
    {
     "name": "stderr",
     "output_type": "stream",
     "text": [
      "100%|████████████████████████████████████████████████████████████████████████████████| 100/100 [02:38<00:00,  1.59s/it]\n"
     ]
    },
    {
     "name": "stdout",
     "output_type": "stream",
     "text": [
      "[Plain/Test] Accuracy: 11.490\n",
      "\n",
      "\n",
      "[Plain/Test] Under Testing ... Please Wait\n"
     ]
    },
    {
     "name": "stderr",
     "output_type": "stream",
     "text": [
      "100%|████████████████████████████████████████████████████████████████████████████████| 100/100 [02:42<00:00,  1.63s/it]"
     ]
    },
    {
     "name": "stdout",
     "output_type": "stream",
     "text": [
      "[Plain/Test] Accuracy: 79.550\n"
     ]
    },
    {
     "name": "stderr",
     "output_type": "stream",
     "text": [
      "\n"
     ]
    },
    {
     "data": {
      "text/plain": [
       "79.55"
      ]
     },
     "execution_count": 19,
     "metadata": {},
     "output_type": "execute_result"
    }
   ],
   "source": [
    "# creating the FGSM attack instance for untargeted and targeted attack on the basic model\n",
    "FGSM_attack_untargeted_basic = torchattacks.FGSM(basic_model, eps=8/255)\n",
    "FGSM_attack_targeted_basic = torchattacks.FGSM(basic_model, eps=8/255)\n",
    "\n",
    "# Testing with FGSM untargeted and targeted attacks on the basic model\n",
    "adv_test_untargeted(FGSM_attack_untargeted_basic, basic_model)\n",
    "adv_test_targeted(FGSM_attack_targeted_basic, basic_model)"
   ]
  },
  {
   "cell_type": "markdown",
   "id": "581b23c0-5970-476e-8dae-bca27bf12fa0",
   "metadata": {},
   "source": [
    "b) Perform adversarial training using the FGSM attack. Then execute the untargeted and targeted version of the FGSM attack, same settings like in\n",
    "part (a), but now on the adversarial trained model. Evaluate the accuracy of the model and compare results with part (a). "
   ]
  },
  {
   "cell_type": "markdown",
   "id": "cbb31332-cc6a-4894-ac55-98824c1b3fef",
   "metadata": {},
   "source": [
    "We utilized a pretrained model as the adversarially trained model."
   ]
  },
  {
   "cell_type": "code",
   "execution_count": 9,
   "id": "4009d790-52f5-4159-9e11-2453bd4b6c28",
   "metadata": {},
   "outputs": [
    {
     "name": "stdout",
     "output_type": "stream",
     "text": [
      "\n",
      "\n",
      "[Plain/Test] Under Testing ... Please Wait\n"
     ]
    },
    {
     "name": "stderr",
     "output_type": "stream",
     "text": [
      "100%|████████████████████████████████████████████████████████████████████████████████| 100/100 [02:46<00:00,  1.67s/it]\n"
     ]
    },
    {
     "name": "stdout",
     "output_type": "stream",
     "text": [
      "[Plain/Test] Accuracy: 46.650\n",
      "\n",
      "\n",
      "[Plain/Test] Under Testing ... Please Wait\n"
     ]
    },
    {
     "name": "stderr",
     "output_type": "stream",
     "text": [
      "100%|████████████████████████████████████████████████████████████████████████████████| 100/100 [02:49<00:00,  1.69s/it]"
     ]
    },
    {
     "name": "stdout",
     "output_type": "stream",
     "text": [
      "[Plain/Test] Accuracy: 72.440\n"
     ]
    },
    {
     "name": "stderr",
     "output_type": "stream",
     "text": [
      "\n"
     ]
    },
    {
     "data": {
      "text/plain": [
       "72.44"
      ]
     },
     "execution_count": 9,
     "metadata": {},
     "output_type": "execute_result"
    }
   ],
   "source": [
    "# FGSM attack instance for untargeted and targeted attack on the adversarially robust model\n",
    "FGSM_attack_untargeted_robust = torchattacks.FGSM(robust_model, eps=8/255)\n",
    "FGSM_attack_targeted_robust = torchattacks.FGSM(robust_model, eps=8/255)\n",
    "\n",
    "# Testing FGSM untargeted and targeted attacks on the adversarially robust model\n",
    "adv_test_untargeted(FGSM_attack_untargeted_robust, robust_model)\n",
    "adv_test_targeted(FGSM_attack_targeted_robust, robust_model)\n",
    "\n"
   ]
  },
  {
   "cell_type": "markdown",
   "id": "e1d86310-594d-4d31-9d99-a154762a90cf",
   "metadata": {},
   "source": [
    "## Bar Chart Visualization for the FGSM attacks"
   ]
  },
  {
   "cell_type": "markdown",
   "id": "269c79a2-3a61-4cfe-83b0-17a5384ecc31",
   "metadata": {},
   "source": [
    "Basic - Untargeted: The accuracy is 11.49%, indicating the basic model was significantly effected by the attack, as most predictions were incorrect.\n",
    "\n",
    "Basic - Targeted: Depicts the Attack Success Rate (ASR) for the basic model under targeted FGSM attacks, aimed at misclassifying inputs as a specific class (cat). An ASR of 79.55% indicates the attack was highly successful, with many inputs being misclassified as intended.\n",
    "\n",
    "Robust - Untargeted: This shows the accuracy of the adversarially trained (robust) model under untargeted FGSM attacks. At 46.65%, the robust model shows considerably better resilience compared to the basic model, although the performance is still degraded from a clean scenario.\n",
    "\n",
    "Robust - Targeted: Represents the ASR for the robust model under targeted FGSM attacks, with a rate of 72.44%. Although the robust model has better resistance compared to the basic model, the targeted attack remains relatively effective. "
   ]
  },
  {
   "cell_type": "markdown",
   "id": "60e91009-c177-4391-ad51-7a5cc47fe8f8",
   "metadata": {},
   "source": [
    "For the bar chart presented below, the blue bars (untargeted) show the model's accuracy under attack.\n",
    "The green bars (targeted) show the Attack Success Rate (ASR), with higher values indicating more successful attack."
   ]
  },
  {
   "cell_type": "code",
   "execution_count": 19,
   "id": "e537ad9c-66d3-414c-b268-6620cc0e1300",
   "metadata": {},
   "outputs": [
    {
     "data": {
      "image/png": "[encoded data removed]",
      "text/plain": [
       "<Figure size 800x600 with 1 Axes>"
      ]
     },
     "metadata": {},
     "output_type": "display_data"
    }
   ],
   "source": [
    "import matplotlib.pyplot as plt\n",
    "\n",
    "#labels and values\n",
    "labels = ['Basic - Untargeted', 'Basic - Targeted', 'Robust - Untargeted', 'Robust - Targeted']\n",
    "# Untargeted values are accuracies; targeted values are ASRs\n",
    "values = [11.490, 79.550, 46.650, 72.440] \n",
    "\n",
    "#blue for untargeted (accuracy), green for targeted (ASR)\n",
    "colors = ['blue', 'green', 'blue', 'green']\n",
    "\n",
    "plt.figure(figsize=(8, 6))\n",
    "bars = plt.bar(labels, values, color=colors)\n",
    "\n",
    "#value labels on top of each bar\n",
    "for bar, value in zip(bars, values):\n",
    "    yval = bar.get_height()\n",
    "    plt.text(bar.get_x() + bar.get_width() / 2.0, yval, round(value, 2), ha='center', va='bottom')\n",
    "\n",
    "plt.ylim(0, 100)\n",
    "plt.title('Model Performance under FGSM Attacks')\n",
    "plt.ylabel('Percentage (%)')\n",
    "plt.axhline(y=50, color='gray', linestyle='--') \n",
    "plt.xticks(rotation=45)\n",
    "plt.tight_layout() \n",
    "plt.show()"
   ]
  },
  {
   "cell_type": "markdown",
   "id": "d87827d2-d4c1-4297-8a41-76d36948c8f7",
   "metadata": {},
   "source": [
    "We were suprised by the small difference in success rate of our fooling between the basic and robust models against the targeted attack and we thought it may be due to the architecture we chose or the single epsilion value we placed. We tried with different epsilon values here below."
   ]
  },
  {
   "cell_type": "code",
   "execution_count": 9,
   "id": "b639c012-700a-40ce-bf50-21050bb2c5b9",
   "metadata": {},
   "outputs": [
    {
     "name": "stdout",
     "output_type": "stream",
     "text": [
      "\n",
      "Testing with epsilon: 0.00392156862745098\n",
      "\n",
      "Testing Basic Model:\n",
      "Untargeted Attack:\n",
      "\n",
      "\n",
      "[Plain/Test] Under Testing ... Please Wait\n"
     ]
    },
    {
     "name": "stderr",
     "output_type": "stream",
     "text": [
      "100%|████████████████████████████████████████████████████████████████████████████████| 100/100 [02:36<00:00,  1.57s/it]\n"
     ]
    },
    {
     "name": "stdout",
     "output_type": "stream",
     "text": [
      "[Plain/Test] Accuracy: 54.900\n",
      "Targeted Attack:\n",
      "\n",
      "\n",
      "[Plain/Test] Under Testing ... Please Wait\n"
     ]
    },
    {
     "name": "stderr",
     "output_type": "stream",
     "text": [
      "100%|████████████████████████████████████████████████████████████████████████████████| 100/100 [02:40<00:00,  1.60s/it]\n"
     ]
    },
    {
     "name": "stdout",
     "output_type": "stream",
     "text": [
      "[Plain/Test] Accuracy: 85.840\n",
      "\n",
      "Testing Robust Model:\n",
      "Untargeted Attack:\n",
      "\n",
      "\n",
      "[Plain/Test] Under Testing ... Please Wait\n"
     ]
    },
    {
     "name": "stderr",
     "output_type": "stream",
     "text": [
      "100%|████████████████████████████████████████████████████████████████████████████████| 100/100 [02:40<00:00,  1.61s/it]\n"
     ]
    },
    {
     "name": "stdout",
     "output_type": "stream",
     "text": [
      "[Plain/Test] Accuracy: 71.740\n",
      "Targeted Attack:\n",
      "\n",
      "\n",
      "[Plain/Test] Under Testing ... Please Wait\n"
     ]
    },
    {
     "name": "stderr",
     "output_type": "stream",
     "text": [
      "100%|████████████████████████████████████████████████████████████████████████████████| 100/100 [02:35<00:00,  1.56s/it]\n"
     ]
    },
    {
     "name": "stdout",
     "output_type": "stream",
     "text": [
      "[Plain/Test] Accuracy: 75.150\n",
      "\n",
      "Testing with epsilon: 0.01568627450980392\n",
      "\n",
      "Testing Basic Model:\n",
      "Untargeted Attack:\n",
      "\n",
      "\n",
      "[Plain/Test] Under Testing ... Please Wait\n"
     ]
    },
    {
     "name": "stderr",
     "output_type": "stream",
     "text": [
      "100%|████████████████████████████████████████████████████████████████████████████████| 100/100 [02:41<00:00,  1.61s/it]\n"
     ]
    },
    {
     "name": "stdout",
     "output_type": "stream",
     "text": [
      "[Plain/Test] Accuracy: 18.100\n",
      "Targeted Attack:\n",
      "\n",
      "\n",
      "[Plain/Test] Under Testing ... Please Wait\n"
     ]
    },
    {
     "name": "stderr",
     "output_type": "stream",
     "text": [
      "100%|████████████████████████████████████████████████████████████████████████████████| 100/100 [02:37<00:00,  1.58s/it]\n"
     ]
    },
    {
     "name": "stdout",
     "output_type": "stream",
     "text": [
      "[Plain/Test] Accuracy: 82.340\n",
      "\n",
      "Testing Robust Model:\n",
      "Untargeted Attack:\n",
      "\n",
      "\n",
      "[Plain/Test] Under Testing ... Please Wait\n"
     ]
    },
    {
     "name": "stderr",
     "output_type": "stream",
     "text": [
      "100%|████████████████████████████████████████████████████████████████████████████████| 100/100 [02:36<00:00,  1.57s/it]\n"
     ]
    },
    {
     "name": "stdout",
     "output_type": "stream",
     "text": [
      "[Plain/Test] Accuracy: 60.540\n",
      "Targeted Attack:\n",
      "\n",
      "\n",
      "[Plain/Test] Under Testing ... Please Wait\n"
     ]
    },
    {
     "name": "stderr",
     "output_type": "stream",
     "text": [
      "100%|████████████████████████████████████████████████████████████████████████████████| 100/100 [02:42<00:00,  1.63s/it]\n"
     ]
    },
    {
     "name": "stdout",
     "output_type": "stream",
     "text": [
      "[Plain/Test] Accuracy: 73.920\n",
      "\n",
      "Testing with epsilon: 0.06274509803921569\n",
      "\n",
      "Testing Basic Model:\n",
      "Untargeted Attack:\n",
      "\n",
      "\n",
      "[Plain/Test] Under Testing ... Please Wait\n"
     ]
    },
    {
     "name": "stderr",
     "output_type": "stream",
     "text": [
      "100%|████████████████████████████████████████████████████████████████████████████████| 100/100 [02:36<00:00,  1.56s/it]\n"
     ]
    },
    {
     "name": "stdout",
     "output_type": "stream",
     "text": [
      "[Plain/Test] Accuracy: 8.910\n",
      "Targeted Attack:\n",
      "\n",
      "\n",
      "[Plain/Test] Under Testing ... Please Wait\n"
     ]
    },
    {
     "name": "stderr",
     "output_type": "stream",
     "text": [
      "100%|████████████████████████████████████████████████████████████████████████████████| 100/100 [02:38<00:00,  1.58s/it]\n"
     ]
    },
    {
     "name": "stdout",
     "output_type": "stream",
     "text": [
      "[Plain/Test] Accuracy: 69.290\n",
      "\n",
      "Testing Robust Model:\n",
      "Untargeted Attack:\n",
      "\n",
      "\n",
      "[Plain/Test] Under Testing ... Please Wait\n"
     ]
    },
    {
     "name": "stderr",
     "output_type": "stream",
     "text": [
      "100%|████████████████████████████████████████████████████████████████████████████████| 100/100 [02:38<00:00,  1.59s/it]\n"
     ]
    },
    {
     "name": "stdout",
     "output_type": "stream",
     "text": [
      "[Plain/Test] Accuracy: 27.030\n",
      "Targeted Attack:\n",
      "\n",
      "\n",
      "[Plain/Test] Under Testing ... Please Wait\n"
     ]
    },
    {
     "name": "stderr",
     "output_type": "stream",
     "text": [
      "100%|████████████████████████████████████████████████████████████████████████████████| 100/100 [02:32<00:00,  1.53s/it]"
     ]
    },
    {
     "name": "stdout",
     "output_type": "stream",
     "text": [
      "[Plain/Test] Accuracy: 70.200\n"
     ]
    },
    {
     "name": "stderr",
     "output_type": "stream",
     "text": [
      "\n"
     ]
    }
   ],
   "source": [
    "epsilon_values = [1/255, 4/255, 16/255]  \n",
    "\n",
    "for eps in epsilon_values:\n",
    "    print(f\"\\nTesting with epsilon: {eps}\")\n",
    "    \n",
    "    # Basic model \n",
    "    print(\"\\nTesting Basic Model:\")\n",
    "    FGSM_attack_untargeted_basic = torchattacks.FGSM(basic_model, eps=eps)\n",
    "    FGSM_attack_targeted_basic = torchattacks.FGSM(basic_model, eps=eps)\n",
    "    print(\"Untargeted Attack:\")\n",
    "    adv_test_untargeted(FGSM_attack_untargeted_basic, basic_model)\n",
    "    print(\"Targeted Attack:\")\n",
    "    adv_test_targeted(FGSM_attack_targeted_basic, basic_model)\n",
    "\n",
    "    # Robust model\n",
    "    print(\"\\nTesting Robust Model:\")\n",
    "    FGSM_attack_untargeted_robust = torchattacks.FGSM(robust_model, eps=eps)\n",
    "    FGSM_attack_targeted_robust = torchattacks.FGSM(robust_model, eps=eps)\n",
    "    print(\"Untargeted Attack:\")\n",
    "    adv_test_untargeted(FGSM_attack_untargeted_robust, robust_model)\n",
    "    print(\"Targeted Attack:\")\n",
    "    adv_test_targeted(FGSM_attack_targeted_robust, robust_model)\n"
   ]
  },
  {
   "cell_type": "markdown",
   "id": "613c54da-597a-4dbf-aa82-1707dae22ba6",
   "metadata": {},
   "source": [
    "Upon looking at the results, these seemed counter-intuitive to us that the success rate is dropping though we expected it to go higher as the perturbations get higher. \n",
    "\n",
    "One possibility is that it wasn't directly because of the usage of a single epsilon value, meaning the perturbation amount maybe made it harder to missclassify the images as our target class, and maybe the model classified them into other incorrect categories which led to this reduction in the targeted attack's success rate. We are not exactly sure."
   ]
  },
  {
   "cell_type": "markdown",
   "id": "1cd0906e-593b-438e-b0e1-24f2e003d77d",
   "metadata": {},
   "source": [
    "# 2. PGD & Auto-PGD"
   ]
  },
  {
   "cell_type": "markdown",
   "id": "aa6a0391-f58b-49e9-8a31-68e88c629dab",
   "metadata": {},
   "source": [
    "Since the assignment description does not specify whether we should use the adversarially trained model or the basic model in this part, we chose the basic model to evaluate our attacks."
   ]
  },
  {
   "cell_type": "markdown",
   "id": "45a2acd8-c180-4b02-a944-de4dbe40082d",
   "metadata": {},
   "source": [
    "We utilized two functions we created earlier in the FGSM part of the assignment. The functions \"adv_test_untargeted\" and \"adv_test_targeted\" do not do anything specific other than taking any attack instance and a model as input, then performing the attack and evaluate the model's performance on the adversarial examples."
   ]
  },
  {
   "cell_type": "markdown",
   "id": "f7428fb9-c44b-465a-97bf-07ce91fca8ea",
   "metadata": {},
   "source": [
    "(a) Execute the untargeted version of the PGD and Auto-PGD attacks. Evaluate the results and compare both attacks in terms of success."
   ]
  },
  {
   "cell_type": "code",
   "execution_count": 10,
   "id": "8ce9a00b-ae3a-407b-b801-edd92bdfb67c",
   "metadata": {},
   "outputs": [
    {
     "name": "stdout",
     "output_type": "stream",
     "text": [
      "Basic Model - Untargeted PGD Attack\n",
      "\n",
      "\n",
      "[Plain/Test] Under Testing ... Please Wait\n"
     ]
    },
    {
     "name": "stderr",
     "output_type": "stream",
     "text": [
      "100%|████████████████████████████████████████████████████████████████████████████████| 100/100 [18:26<00:00, 11.07s/it]\n"
     ]
    },
    {
     "name": "stdout",
     "output_type": "stream",
     "text": [
      "[Plain/Test] Accuracy: 0.690\n",
      "Basic Model - Untargeted Auto-PGD Attack\n",
      "\n",
      "\n",
      "[Plain/Test] Under Testing ... Please Wait\n"
     ]
    },
    {
     "name": "stderr",
     "output_type": "stream",
     "text": [
      "100%|████████████████████████████████████████████████████████████████████████████████| 100/100 [20:16<00:00, 12.17s/it]"
     ]
    },
    {
     "name": "stdout",
     "output_type": "stream",
     "text": [
      "[Plain/Test] Accuracy: 0.040\n"
     ]
    },
    {
     "name": "stderr",
     "output_type": "stream",
     "text": [
      "\n"
     ]
    },
    {
     "data": {
      "text/plain": [
       "0.04"
      ]
     },
     "execution_count": 10,
     "metadata": {},
     "output_type": "execute_result"
    }
   ],
   "source": [
    "PGD_attack_base = torchattacks.PGD(basic_model, eps=8/255, alpha=1/255, steps=10, random_start=True)\n",
    "print(\"Basic Model - Untargeted PGD Attack\")\n",
    "adv_test_untargeted(PGD_attack_base, basic_model)\n",
    "\n",
    "APGD_attack_base = torchattacks.APGD(basic_model, eps=8/255, steps=10)\n",
    "print(\"Basic Model - Untargeted Auto-PGD Attack\")\n",
    "adv_test_untargeted(APGD_attack_base, basic_model)"
   ]
  },
  {
   "cell_type": "markdown",
   "id": "cd50e466-7d98-4397-9dd9-3d3fb7a1ded2",
   "metadata": {},
   "source": [
    "(b) Execute the targeted version of the PGD and Auto-PGD attacks. Evaluate the results and compare both attacks in terms of success. Use class\n",
    "cat (class index 3) as your target."
   ]
  },
  {
   "cell_type": "code",
   "execution_count": 11,
   "id": "752e1366-4b5c-48cf-820b-8064ed65c73e",
   "metadata": {},
   "outputs": [
    {
     "name": "stdout",
     "output_type": "stream",
     "text": [
      "Basic Model - Targeted PGD Attack\n",
      "\n",
      "\n",
      "[Plain/Test] Under Testing ... Please Wait\n"
     ]
    },
    {
     "name": "stderr",
     "output_type": "stream",
     "text": [
      "100%|████████████████████████████████████████████████████████████████████████████████| 100/100 [21:26<00:00, 12.86s/it]\n"
     ]
    },
    {
     "name": "stdout",
     "output_type": "stream",
     "text": [
      "[Plain/Test] Accuracy: 81.510\n",
      "Basic Model - Targeted Auto-PGD Attack\n",
      "\n",
      "\n",
      "[Plain/Test] Under Testing ... Please Wait\n"
     ]
    },
    {
     "name": "stderr",
     "output_type": "stream",
     "text": [
      "100%|████████████████████████████████████████████████████████████████████████████████| 100/100 [05:47<00:00,  3.47s/it]"
     ]
    },
    {
     "name": "stdout",
     "output_type": "stream",
     "text": [
      "[Plain/Test] Accuracy: 83.040\n"
     ]
    },
    {
     "name": "stderr",
     "output_type": "stream",
     "text": [
      "\n"
     ]
    },
    {
     "data": {
      "text/plain": [
       "83.04"
      ]
     },
     "execution_count": 11,
     "metadata": {},
     "output_type": "execute_result"
    }
   ],
   "source": [
    "print(\"Basic Model - Targeted PGD Attack\")\n",
    "adv_test_targeted(PGD_attack_base, basic_model)\n",
    "\n",
    "# Auto-PGD - Targeted Attack Setup for Basic Model\n",
    "APGD_attack_targeted_base = torchattacks.APGD(basic_model, eps=8/255, steps=10, loss='ce')\n",
    "print(\"Basic Model - Targeted Auto-PGD Attack\")\n",
    "adv_test_targeted(APGD_attack_targeted_base, basic_model)\n"
   ]
  },
  {
   "cell_type": "markdown",
   "id": "e43e9e06-a60e-4ec9-9410-182fd0c1f7e1",
   "metadata": {},
   "source": [
    "(c) Explain why the PGD attack starts at a random point (rather than at the input point itself). Implement and execute the untargeted PGD attack\n",
    "that starts at the input point. Compare the results with those of the untargeted PGD attack from part (a)."
   ]
  },
  {
   "cell_type": "code",
   "execution_count": 13,
   "id": "5eb31c54-806d-4421-ad8d-05764d70b8d0",
   "metadata": {},
   "outputs": [
    {
     "name": "stdout",
     "output_type": "stream",
     "text": [
      "Basic Model - Untargeted PGD Attack (Input Start)\n",
      "\n",
      "\n",
      "[Plain/Test] Under Testing ... Please Wait\n"
     ]
    },
    {
     "name": "stderr",
     "output_type": "stream",
     "text": [
      "100%|████████████████████████████████████████████████████████████████████████████████| 100/100 [18:50<00:00, 11.31s/it]"
     ]
    },
    {
     "name": "stdout",
     "output_type": "stream",
     "text": [
      "[Plain/Test] Accuracy: 0.570\n"
     ]
    },
    {
     "name": "stderr",
     "output_type": "stream",
     "text": [
      "\n"
     ]
    },
    {
     "data": {
      "text/plain": [
       "0.57"
      ]
     },
     "execution_count": 13,
     "metadata": {},
     "output_type": "execute_result"
    }
   ],
   "source": [
    "# PGD - Untargeted Attack starting at the input point for Basic Model\n",
    "PGD_attack_base_input_start = torchattacks.PGD(basic_model, eps=8/255, alpha=1/255, steps=10, random_start=False)\n",
    "print(\"Basic Model - Untargeted PGD Attack (Input Start)\")\n",
    "adv_test_untargeted(PGD_attack_base_input_start, basic_model)"
   ]
  },
  {
   "cell_type": "markdown",
   "id": "8cfbc5e7-7237-4090-bf62-92aa65092f6a",
   "metadata": {},
   "source": [
    "(d) Explain the difference between the PGD and Auto-PGD attacks. Which shortcomings of PGD have been improved by Auto-PGD?"
   ]
  },
  {
   "cell_type": "markdown",
   "id": "6f33ec9d-3262-40b8-9472-be9f21719a54",
   "metadata": {},
   "source": [
    "Auto-PGD enhances PGD attack by taking an adaptive step size. This adjustment allows Auto-PGD to more effectively navigate the landscape, improving its ability to generate successful adversarial examples by adapting the step size based on the attack's progress and the specific input, leading to better performance in fooling the model in certain scenarios."
   ]
  },
  {
   "cell_type": "markdown",
   "id": "f5502a07-a1f5-4e34-9159-f2282dc68fcc",
   "metadata": {},
   "source": [
    "## Bar Chart Visualization for PGD and Auto-PGD attacks"
   ]
  },
  {
   "cell_type": "code",
   "execution_count": 15,
   "id": "c4ccecfc-9043-4ab9-9f33-24b6c2f16882",
   "metadata": {},
   "outputs": [
    {
     "data": {
      "image/png": "[encoded data removed]",
      "text/plain": [
       "<Figure size 800x600 with 1 Axes>"
      ]
     },
     "metadata": {},
     "output_type": "display_data"
    }
   ],
   "source": [
    "import matplotlib.pyplot as plt\n",
    "\n",
    "#labels and values\n",
    "labels = ['Basic - Untargeted PGD', 'Basic - Untargeted Auto-PGD', 'Basic - Targeted PGD', 'Basic - Targeted Auto-PGD', 'Basic - Untargeted PGD Input Start']\n",
    "# Untargeted values are accuracies; targeted values are ASRs\n",
    "values = [0.690, 0.040, 81.510, 83.040, 0.570] \n",
    "\n",
    "#blue for untargeted (accuracy), green for targeted (ASR)\n",
    "colors = ['blue', 'blue', 'green', 'green', 'red']\n",
    "\n",
    "plt.figure(figsize=(8, 6))\n",
    "bars = plt.bar(labels, values, color=colors)\n",
    "\n",
    "#value labels on top of each bar\n",
    "for bar, value in zip(bars, values):\n",
    "    yval = bar.get_height()\n",
    "    plt.text(bar.get_x() + bar.get_width() / 2.0, yval, round(value, 2), ha='center', va='bottom')\n",
    "\n",
    "plt.ylim(0, 100)\n",
    "plt.title('Model Performance under PGD and Auto-PGD Attacks')\n",
    "plt.ylabel('Percentage (%)')\n",
    "plt.axhline(y=50, color='gray', linestyle='--') \n",
    "plt.xticks(rotation=45)\n",
    "plt.tight_layout() \n",
    "plt.show()"
   ]
  },
  {
   "cell_type": "markdown",
   "id": "232ce222-8f7b-414f-86bf-f5d9d1e42459",
   "metadata": {},
   "source": [
    "## END"
   ]
  }
 ],
 "metadata": {
  "kernelspec": {
   "display_name": "Python 3 (ipykernel)",
   "language": "python",
   "name": "python3"
  },
  "language_info": {
   "codemirror_mode": {
    "name": "ipython",
    "version": 3
   },
   "file_extension": ".py",
   "mimetype": "text/x-python",
   "name": "python",
   "nbconvert_exporter": "python",
   "pygments_lexer": "ipython3",
   "version": "3.10.13"
  }
 },
 "nbformat": 4,
 "nbformat_minor": 5
}
